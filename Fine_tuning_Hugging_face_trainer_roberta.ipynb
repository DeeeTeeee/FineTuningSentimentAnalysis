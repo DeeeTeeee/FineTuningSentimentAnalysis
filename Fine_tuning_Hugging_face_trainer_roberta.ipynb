{
  "cells": [
    {
      "cell_type": "markdown",
      "metadata": {
        "id": "view-in-github",
        "colab_type": "text"
      },
      "source": [
        "<a href=\"https://colab.research.google.com/github/DeeeTeeee/Sentiment-Classification-FineTunning/blob/main/Fine_tuning_Hugging_face_trainer_roberta.ipynb\" target=\"_parent\"><img src=\"https://colab.research.google.com/assets/colab-badge.svg\" alt=\"Open In Colab\"/></a>"
      ]
    },
    {
      "cell_type": "markdown",
      "metadata": {
        "id": "QqBbFZn5txdA"
      },
      "source": [
        "# Sentiment Analysis with Hugging Face"
      ]
    },
    {
      "cell_type": "markdown",
      "metadata": {
        "id": "pW-9lJtjtxdG"
      },
      "source": [
        "## Application of Hugging Face Text classification model Fune-tuning"
      ]
    },
    {
      "cell_type": "code",
      "execution_count": null,
      "metadata": {
        "colab": {
          "background_save": true
        },
        "id": "rIqNL3M2smD5"
      },
      "outputs": [],
      "source": [
        "# #Install the datasets library\n",
        "# !pip install datasets\n",
        "# !pip install sentencepiece\n",
        "# !pip install transformers datasets\n",
        "# !pip install transformers[torch]\n",
        "# !pip install accelerate\n",
        "# !pip install accelerate>=0.20.1\n",
        "# !pip install huggingface_hub\n",
        "# !pip3 install -q transformers datasets"
      ]
    },
    {
      "cell_type": "code",
      "execution_count": null,
      "metadata": {
        "colab": {
          "background_save": true
        },
        "id": "Fm6QDAUPtxdJ"
      },
      "outputs": [],
      "source": [
        "# Import libraries\n",
        "import os\n",
        "import pandas as pd\n",
        "import numpy as np\n",
        "import plotly\n",
        "import string\n",
        "import re\n",
        "import matplotlib.pyplot as plt\n",
        "from google.colab import files\n",
        "import nltk\n",
        "from nltk.corpus import stopwords\n",
        "from datasets import load_dataset\n",
        "from sklearn.model_selection import train_test_split\n",
        "\n",
        "from transformers import AutoModelForSequenceClassification\n",
        "from transformers import AutoTokenizer, AutoConfig, AdamW\n",
        "from transformers import TrainingArguments, Trainer, DataCollatorWithPadding\n",
        "from sklearn.metrics import mean_squared_error\n",
        "from huggingface_hub import notebook_login\n",
        "\n"
      ]
    },
    {
      "cell_type": "code",
      "execution_count": null,
      "metadata": {
        "colab": {
          "background_save": true,
          "referenced_widgets": [
            "f3140cbd5b9a4216b729f0f0f32dd12c"
          ]
        },
        "id": "ZXGcBuJc671Z",
        "outputId": "d2b40b53-e31a-4935-fe9a-f1ef65f66c46"
      },
      "outputs": [
        {
          "data": {
            "application/vnd.jupyter.widget-view+json": {
              "model_id": "f3140cbd5b9a4216b729f0f0f32dd12c",
              "version_major": 2,
              "version_minor": 0
            },
            "text/plain": [
              "VBox(children=(HTML(value='<center> <img\\nsrc=https://huggingface.co/front/assets/huggingface_logo-noborder.sv…"
            ]
          },
          "metadata": {},
          "output_type": "display_data"
        }
      ],
      "source": [
        "notebook_login()"
      ]
    },
    {
      "cell_type": "code",
      "execution_count": null,
      "metadata": {
        "id": "VWmwkEFr3aOz"
      },
      "outputs": [],
      "source": [
        "from google.colab import drive\n",
        "drive.mount('/content/drive')"
      ]
    },
    {
      "cell_type": "code",
      "execution_count": null,
      "metadata": {
        "id": "t_hA3lAvtxdN"
      },
      "outputs": [],
      "source": [
        "# Load the dataset and display some values\n",
        "df_train = pd.read_csv('/content/drive/MyDrive/Natural Language Processing/zindi_challenge/data/Train.csv')\n",
        "df_test = pd.read_csv('/content/drive/MyDrive/Natural Language Processing/zindi_challenge/data/Test.csv')\n",
        "# A way to eliminate rows containing NaN values\n",
        "df_train = df_train[~df_train.isna().any(axis=1)]\n",
        "df_test = df_test[~df_test.isna().any(axis=1)]\n"
      ]
    },
    {
      "cell_type": "code",
      "execution_count": null,
      "metadata": {
        "id": "nc_cKWnu62Ac"
      },
      "outputs": [],
      "source": [
        "# Set the max_colwidth option to a higher value\n",
        "pd.set_option('display.max_colwidth', None)"
      ]
    },
    {
      "cell_type": "markdown",
      "metadata": {
        "id": "-fbIMa0W3AzO"
      },
      "source": [
        "Because this project is basiscally for finetunning, we are not concentrating on  the EDA part however for the sake of the dataset, we need to check and understand it...\n",
        "so, we will use the `CRISP-DM framework`\n",
        "# Cleaning and little EDA"
      ]
    },
    {
      "cell_type": "code",
      "execution_count": null,
      "metadata": {
        "id": "tp_l_EA03EMi"
      },
      "outputs": [],
      "source": [
        "df_train.sample(4)"
      ]
    },
    {
      "cell_type": "code",
      "execution_count": null,
      "metadata": {
        "id": "sJQ2_tE63EI9"
      },
      "outputs": [],
      "source": [
        "df_test.sample(4)"
      ]
    },
    {
      "cell_type": "markdown",
      "metadata": {
        "id": "EhIAEpTR_1t6"
      },
      "source": [
        "# Data cleaning\n",
        "\n",
        "Here I:\\\n",
        "Remove unnecessary columns\\\n",
        "Clean the 'safe_text' column\\\n",
        "Remove emojis and other special characters\\\n",
        "Remove punctuation\n"
      ]
    },
    {
      "cell_type": "code",
      "execution_count": null,
      "metadata": {
        "id": "jD7LD-rU3EET"
      },
      "outputs": [],
      "source": [
        "# Remove unnecessary columns\n",
        "df_train = df_train.drop(['tweet_id'], axis=1)\n",
        "df_test = df_test.drop(['tweet_id'], axis=1)"
      ]
    },
    {
      "cell_type": "code",
      "execution_count": null,
      "metadata": {
        "id": "izq_DTLVA9Kh"
      },
      "outputs": [],
      "source": [
        "# Clean the 'safe_text' column (example: remove URLs and special characters)\n",
        "df_train['safe_text'] = df_train['safe_text'].str.replace(r'<url>', '')  # Remove <url> tag\n",
        "df_test['safe_text'] = df_test['safe_text'].str.replace(r'<url>', '')  # Remove <url> tag\n",
        "\n",
        "# Remove emojis and other special characters\n",
        "emojis = re.compile(r'[^\\w\\s@#$%^*()<>/|}{~:]')\n",
        "df_train[\"safe_text\"] = df_train[\"safe_text\"].str.replace(emojis, '')\n",
        "df_test[\"safe_text\"] = df_test[\"safe_text\"].str.replace(emojis, '')\n",
        "\n",
        "# # Remove punctuation\n",
        "punctuation = string.punctuation\n",
        "df_train[\"safe_text\"] = df_train[\"safe_text\"].str.translate(str.maketrans('', '', punctuation))\n",
        "df_test[\"safe_text\"] = df_test[\"safe_text\"].str.translate(str.maketrans('', '', punctuation))"
      ]
    },
    {
      "cell_type": "code",
      "execution_count": null,
      "metadata": {
        "id": "EBwrqQjO3EA5"
      },
      "outputs": [],
      "source": [
        "df_train.sample(4)"
      ]
    },
    {
      "cell_type": "code",
      "execution_count": null,
      "metadata": {
        "id": "m9jnwfioCy4L"
      },
      "outputs": [],
      "source": [
        "df_test.head(4)"
      ]
    },
    {
      "cell_type": "markdown",
      "metadata": {
        "id": "sNsW44QAx9Cg"
      },
      "source": [
        "Let's for the Fine Tunning to be smoother, let us make the case of the text uniform. I will make it `lowercase`"
      ]
    },
    {
      "cell_type": "code",
      "execution_count": null,
      "metadata": {
        "id": "m2-dazw-Cy0O"
      },
      "outputs": [],
      "source": [
        "# Turn the safe_text column into lowercase\n",
        "df_train[\"safe_text\"] = df_train[\"safe_text\"].str.lower()\n",
        "df_test[\"safe_text\"] = df_test[\"safe_text\"].str.lower()"
      ]
    },
    {
      "cell_type": "markdown",
      "metadata": {
        "id": "M-8ss5cjyViJ"
      },
      "source": [
        "### EDA"
      ]
    },
    {
      "cell_type": "code",
      "execution_count": null,
      "metadata": {
        "id": "l92xkfrqIih-"
      },
      "outputs": [],
      "source": [
        "# Plot the distribution of labels\n",
        "label_counts = df_train['label'].value_counts()\n",
        "plt.bar(label_counts.index, label_counts.values)\n",
        "plt.xlabel('Label')\n",
        "plt.ylabel('Count')\n",
        "plt.title('Distribution of Labels')\n",
        "plt.show()"
      ]
    },
    {
      "cell_type": "code",
      "execution_count": null,
      "metadata": {
        "id": "Itfe6YIgIiej"
      },
      "outputs": [],
      "source": [
        "df_train['label'].unique()"
      ]
    },
    {
      "cell_type": "markdown",
      "metadata": {
        "id": "TA5GaHsvLz5F"
      },
      "source": [
        "Distribution of Label Agreement:"
      ]
    },
    {
      "cell_type": "code",
      "execution_count": null,
      "metadata": {
        "id": "fOuWtH6XIiLQ"
      },
      "outputs": [],
      "source": [
        "# Plot the distribution of 'agreement'\n",
        "plt.hist(df_train['agreement'])\n",
        "plt.xlabel('Agreement')\n",
        "plt.ylabel('Count')\n",
        "plt.title('Distribution of Label Agreement')\n",
        "plt.show()"
      ]
    },
    {
      "cell_type": "code",
      "execution_count": null,
      "metadata": {
        "id": "-nsNcP44MDEZ"
      },
      "outputs": [],
      "source": [
        "from collections import Counter\n",
        "\n",
        "# Concatenate all the 'safe_text' into a single string\n",
        "text = ' '.join(df_train['safe_text'])\n",
        "\n",
        "# Split the text into words\n",
        "words = text.split()\n",
        "\n",
        "# Count the frequency of each word\n",
        "word_counts = Counter(words)\n",
        "\n",
        "# Display the most common words\n",
        "print(word_counts.most_common(10))\n"
      ]
    },
    {
      "cell_type": "code",
      "execution_count": null,
      "metadata": {
        "id": "_6SQigZxMC9D"
      },
      "outputs": [],
      "source": [
        "# Calculate the length of each text in 'safe_text'\n",
        "text_lengths = df_train['safe_text'].apply(len)\n",
        "\n",
        "# Plot the distribution of text lengths\n",
        "plt.hist(text_lengths)\n",
        "plt.xlabel('Text Length')\n",
        "plt.ylabel('Count')\n",
        "plt.title('Distribution of Text Lengths')\n",
        "plt.show()"
      ]
    },
    {
      "cell_type": "code",
      "execution_count": null,
      "metadata": {
        "id": "UkJ_YaeHCywu"
      },
      "outputs": [],
      "source": [
        "from wordcloud import WordCloud\n",
        "\n",
        "# Generate the word cloud\n",
        "wordcloud = WordCloud().generate(text)\n",
        "\n",
        "# Display the word cloud\n",
        "plt.imshow(wordcloud, interpolation='bilinear')\n",
        "plt.axis('off')\n",
        "plt.show()\n"
      ]
    },
    {
      "cell_type": "code",
      "execution_count": null,
      "metadata": {
        "id": "lR5ZUujSNb3P"
      },
      "outputs": [],
      "source": [
        "# Calculate the correlation between 'label' and 'agreement'\n",
        "correlation = df_train['label'].corr(df_train['agreement'])\n",
        "\n",
        "# Print the correlation value\n",
        "print(f\"Correlation: {correlation}\")\n"
      ]
    },
    {
      "cell_type": "code",
      "execution_count": null,
      "metadata": {
        "id": "Nc59y883PDe5"
      },
      "outputs": [],
      "source": [
        "df_train.head(5)"
      ]
    },
    {
      "cell_type": "code",
      "execution_count": null,
      "metadata": {
        "id": "M-JVpQpYPKR_"
      },
      "outputs": [],
      "source": [
        "df_test.head(5)"
      ]
    },
    {
      "cell_type": "markdown",
      "metadata": {
        "id": "I4Y3IToV0vIj"
      },
      "source": [
        "## Removing Stop Words"
      ]
    },
    {
      "cell_type": "code",
      "execution_count": null,
      "metadata": {
        "id": "63nPj0xU0uQQ"
      },
      "outputs": [],
      "source": [
        "# Download the stop words (only required for the first time)\n",
        "nltk.download('stopwords')\n",
        "\n",
        "# Remove stop words\n",
        "stop_words = set(stopwords.words('english'))\n",
        "df_train['safe_text'] = df_train['safe_text'].apply(lambda x: ' '.join([word for word in x.split() if word.lower() not in stop_words]))\n"
      ]
    },
    {
      "cell_type": "code",
      "execution_count": null,
      "metadata": {
        "id": "nBvLhzXEu1Df"
      },
      "outputs": [],
      "source": [
        "''.join(stop_words)"
      ]
    },
    {
      "cell_type": "code",
      "execution_count": null,
      "metadata": {
        "id": "f8SoLz440uMq"
      },
      "outputs": [],
      "source": [
        "#Sample after removing stopwords\n",
        "df_train.head(4)"
      ]
    },
    {
      "cell_type": "markdown",
      "metadata": {
        "id": "pitalJ1BObcv"
      },
      "source": [
        "#### Save the DataFrames to CSV files:"
      ]
    },
    {
      "cell_type": "code",
      "execution_count": null,
      "metadata": {
        "id": "COhJSUtuNbzs"
      },
      "outputs": [],
      "source": [
        "# Save df_train\n",
        "df_train.to_csv('df_train.csv', index=False)\n",
        "\n",
        "# Save df_test\n",
        "df_test.to_csv('df_test.csv', index=False)"
      ]
    },
    {
      "cell_type": "markdown",
      "metadata": {
        "id": "4yaJwLMcOpiM"
      },
      "source": [
        "Download the CSV files to your local machine:"
      ]
    },
    {
      "cell_type": "markdown",
      "metadata": {
        "id": "2BiYZGZr4iwh"
      },
      "source": [
        "## Import the Cleaned data:"
      ]
    },
    {
      "cell_type": "code",
      "execution_count": null,
      "metadata": {
        "id": "JyDCETCatxdN"
      },
      "outputs": [],
      "source": [
        "# Disabe W&B\n",
        "os.environ[\"WANDB_DISABLED\"] = \"true\""
      ]
    },
    {
      "cell_type": "code",
      "execution_count": null,
      "metadata": {
        "id": "vnwSLy8NuZqL"
      },
      "outputs": [],
      "source": [
        "# Load the dataset and display some values\n",
        "df = pd.read_csv('/content/df_train.csv')\n",
        "\n",
        "# A way to eliminate rows containing NaN values\n",
        "df = df[~df.isna().any(axis=1)]"
      ]
    },
    {
      "cell_type": "code",
      "execution_count": null,
      "metadata": {
        "id": "6SwDizpLtxdO"
      },
      "outputs": [],
      "source": [
        "# Split the train data => {train, eval}\n",
        "train, eval = train_test_split(df, test_size=0.2, random_state=42, stratify=df['label'])"
      ]
    },
    {
      "cell_type": "code",
      "execution_count": null,
      "metadata": {
        "id": "wHhi6IkDtxdO"
      },
      "outputs": [],
      "source": [
        "# Display the first few rows of the training data\n",
        "train.head(5)"
      ]
    },
    {
      "cell_type": "code",
      "execution_count": null,
      "metadata": {
        "id": "_9_zcvCAL99p"
      },
      "outputs": [],
      "source": [
        "train.info()"
      ]
    },
    {
      "cell_type": "code",
      "execution_count": null,
      "metadata": {
        "id": "4zndZF7ttxdP"
      },
      "outputs": [],
      "source": [
        "# Display the first few rows of the evaluation data\n",
        "eval.head()"
      ]
    },
    {
      "cell_type": "code",
      "execution_count": null,
      "metadata": {
        "id": "zmTUdYxzxN90"
      },
      "outputs": [],
      "source": [
        "eval.label.unique()"
      ]
    },
    {
      "cell_type": "code",
      "execution_count": null,
      "metadata": {
        "id": "jxfU7C3htxdQ"
      },
      "outputs": [],
      "source": [
        "# Print the shapes of the new dataframes\n",
        "print(f\"Shape of the train dataframe: {train.shape}\")\n",
        "print(f\"Shape of the eval dataframe: {eval.shape}\")"
      ]
    },
    {
      "cell_type": "code",
      "execution_count": null,
      "metadata": {
        "id": "eRGdvn0LtxdR"
      },
      "outputs": [],
      "source": [
        "# # Save splitted subsets\n",
        "# train.to_csv(\"../data/train_subset.csv\", index=False)\n",
        "# eval.to_csv(\"../data/eval_subset.csv\", index=False)\n",
        "import os\n",
        "import pandas as pd\n",
        "\n",
        "# Create the data directory if it doesn't exist\n",
        "if not os.path.exists(\"../data\"):\n",
        "    os.makedirs(\"../data\")\n",
        "\n",
        "# Save splitted subsets\n",
        "train.to_csv(\"../data/train_subset.csv\", index=False)\n",
        "eval.to_csv(\"../data/eval_subset.csv\", index=False)\n"
      ]
    },
    {
      "cell_type": "code",
      "execution_count": null,
      "metadata": {
        "id": "tQqAOb_ZtxdR"
      },
      "outputs": [],
      "source": [
        "# Load the dataset from CSV files\n",
        "dataset = load_dataset('csv',\n",
        "                        data_files={'train': '../data/train_subset.csv',\n",
        "                        'eval': '../data/eval_subset.csv'}, encoding = \"ISO-8859-1\")"
      ]
    },
    {
      "cell_type": "code",
      "execution_count": null,
      "metadata": {
        "id": "ZpdjY76BtxdS"
      },
      "outputs": [],
      "source": [
        "\n",
        "#!pip install transformers\n",
        "\n",
        "# Preprocess text (username and link placeholders)\n",
        "def preprocess(text):\n",
        "    new_text = []\n",
        "    for t in text.split(\" \"):\n",
        "        t = '@user' if t.startswith('@') and len(t) > 1 else t\n",
        "        t = 'http' if t.startswith('http') else t\n",
        "        new_text.append(t)\n",
        "    return \" \".join(new_text)\n",
        "\n",
        "# \"cardiffnlp/twitter-xlm-roberta-base-sentiment\"\n",
        "# \"roberta-base\"\n",
        "# \"xlnet-base-cased\"\n",
        "# \"bert-base-uncased\"\n",
        "\n",
        "# Import the tokenizer from transformers library\n",
        "from transformers import AutoTokenizer\n",
        "tokenizer = AutoTokenizer.from_pretrained('xlnet-base-cased')"
      ]
    },
    {
      "cell_type": "code",
      "execution_count": null,
      "metadata": {
        "id": "EP4xqaWitxdT"
      },
      "outputs": [],
      "source": [
        "# Function to transform labels\n",
        "def transform_labels(label):\n",
        "    label = label['label']\n",
        "    num = 0\n",
        "    if label == -1: #'Negative'\n",
        "        num = 0\n",
        "    elif label == 0: #'Neutral'\n",
        "        num = 1\n",
        "    elif label == 1: #'Positive'\n",
        "        num = 2\n",
        "\n",
        "    return {'labels': num}\n",
        "\n",
        "# Function to tokenize data\n",
        "def tokenize_data(example):\n",
        "    return tokenizer(example['safe_text'], padding='max_length')\n",
        "\n",
        "# Change the tweets to tokens that the models can exploit\n",
        "dataset = dataset.map(tokenize_data, batched=True)\n",
        "\n",
        "# Transform\tlabels and remove the useless columns\n",
        "remove_columns = ['label', 'safe_text', 'agreement']\n",
        "dataset = dataset.map(transform_labels, remove_columns=remove_columns)"
      ]
    },
    {
      "cell_type": "code",
      "execution_count": null,
      "metadata": {
        "id": "IyN-b1votxdU"
      },
      "outputs": [],
      "source": [
        "dataset"
      ]
    },
    {
      "cell_type": "code",
      "execution_count": null,
      "metadata": {
        "id": "EC6xtpYbtxdV"
      },
      "outputs": [],
      "source": [
        "from transformers import TrainingArguments\n",
        "import transformers\n",
        "\n",
        "# Configure the trianing parameters like `num_train_epochs`:\n",
        "# the number of time the model will repeat the training loop over the dataset\n",
        "# Training Arguments\n",
        "training_args = TrainingArguments(\n",
        "    output_dir=\"mytest_trainer_base-cased\",\n",
        "    num_train_epochs=10,\n",
        "    load_best_model_at_end=True,\n",
        "    #output_dir=\"SentimentAnalysisDee1\",\n",
        "    push_to_hub=True,\n",
        "    save_strategy=\"epoch\",\n",
        "    evaluation_strategy=\"epoch\",\n",
        "    logging_strategy=\"epoch\",\n",
        "    logging_steps=100,\n",
        "    per_device_train_batch_size=16,\n",
        ")\n"
      ]
    },
    {
      "cell_type": "code",
      "execution_count": null,
      "metadata": {
        "id": "ApzlX0ogtxdV"
      },
      "outputs": [],
      "source": [
        "from transformers import AutoModelForSequenceClassification\n",
        "\n",
        "# Loading a pretrain model while specifying the number of labels in our dataset for fine-tuning\n",
        "model = AutoModelForSequenceClassification.from_pretrained(\"xlnet-base-cased\", num_labels=3)"
      ]
    },
    {
      "cell_type": "code",
      "execution_count": null,
      "metadata": {
        "id": "c4ACjv63txdV"
      },
      "outputs": [],
      "source": [
        "# Train and Evaluation Datasets\n",
        "train_dataset = dataset['train'].shuffle(seed=25) #.select(range(40000)) # to select a part\n",
        "eval_dataset = dataset['eval'].shuffle(seed=25)\n",
        "\n",
        "## other way to split the train set ... in the range you must use:\n",
        "# # int(num_rows*.8 ) for [0 - 80%] and  int(num_rows*.8 ),num_rows for the 20% ([80 - 100%])\n",
        "# train_dataset = dataset['train'].shuffle(seed=10).select(range(40000))\n",
        "# eval_dataset = dataset['train'].shuffle(seed=10).select(range(40000, 41000))"
      ]
    },
    {
      "cell_type": "code",
      "execution_count": null,
      "metadata": {
        "id": "qODF97Pxomai"
      },
      "outputs": [],
      "source": [
        "def compute_metrics(eval_pred):\n",
        "    logits, labels = eval_pred\n",
        "    predictions = np.argmax(logits, axis=-1)\n",
        "    return {\"rmse\": mean_squared_error(labels, predictions, squared=False)}"
      ]
    },
    {
      "cell_type": "code",
      "execution_count": null,
      "metadata": {
        "id": "SWq-uEIjtxdW"
      },
      "outputs": [],
      "source": [
        "# Model Training Setup\n",
        "from transformers import Trainer\n",
        "\n",
        "trainer = Trainer(\n",
        "    model,\n",
        "    training_args,\n",
        "    train_dataset=train_dataset,\n",
        "    eval_dataset=eval_dataset,\n",
        "    tokenizer=tokenizer,\n",
        "    compute_metrics=compute_metrics,\n",
        "\n",
        ")\n"
      ]
    },
    {
      "cell_type": "code",
      "execution_count": null,
      "metadata": {
        "id": "IpXPAeOYtxdX",
        "colab": {
          "base_uri": "https://localhost:8080/",
          "height": 464
        },
        "outputId": "340caf4e-7365-4b22-9388-74e5c0fcc8c7"
      },
      "outputs": [
        {
          "metadata": {
            "tags": null
          },
          "name": "stderr",
          "output_type": "stream",
          "text": [
            "/usr/local/lib/python3.10/dist-packages/transformers/optimization.py:411: FutureWarning: This implementation of AdamW is deprecated and will be removed in a future version. Use the PyTorch implementation torch.optim.AdamW instead, or set `no_deprecation_warning=True` to disable this warning\n",
            "  warnings.warn(\n",
            "You're using a RobertaTokenizerFast tokenizer. Please note that with a fast tokenizer, using the `__call__` method is faster than using a method to encode the text followed by a call to the `pad` method to get a padded encoding.\n"
          ]
        },
        {
          "data": {
            "text/html": [
              "\n",
              "    <div>\n",
              "      \n",
              "      <progress value='1556' max='2000' style='width:300px; height:20px; vertical-align: middle;'></progress>\n",
              "      [1556/2000 41:43 < 11:55, 0.62 it/s, Epoch 3.11/4]\n",
              "    </div>\n",
              "    <table border=\"1\" class=\"dataframe\">\n",
              "  <thead>\n",
              " <tr style=\"text-align: left;\">\n",
              "      <th>Epoch</th>\n",
              "      <th>Training Loss</th>\n",
              "      <th>Validation Loss</th>\n",
              "      <th>Rmse</th>\n",
              "    </tr>\n",
              "  </thead>\n",
              "  <tbody>\n",
              "    <tr>\n",
              "      <td>1</td>\n",
              "      <td>0.745900</td>\n",
              "      <td>0.782984</td>\n",
              "      <td>0.753658</td>\n",
              "    </tr>\n",
              "    <tr>\n",
              "      <td>2</td>\n",
              "      <td>0.645900</td>\n",
              "      <td>0.634595</td>\n",
              "      <td>0.658027</td>\n",
              "    </tr>\n",
              "    <tr>\n",
              "      <td>3</td>\n",
              "      <td>0.526200</td>\n",
              "      <td>0.656488</td>\n",
              "      <td>0.658787</td>\n",
              "    </tr>\n",
              "  </tbody>\n",
              "</table><p>"
            ],
            "text/plain": [
              "<IPython.core.display.HTML object>"
            ]
          },
          "metadata": {},
          "output_type": "display_data"
        },
        {
          "output_type": "display_data",
          "data": {
            "text/plain": [
              "<IPython.core.display.HTML object>"
            ],
            "text/html": [
              "\n",
              "    <div>\n",
              "      \n",
              "      <progress value='2000' max='2000' style='width:300px; height:20px; vertical-align: middle;'></progress>\n",
              "      [2000/2000 54:12, Epoch 4/4]\n",
              "    </div>\n",
              "    <table border=\"1\" class=\"dataframe\">\n",
              "  <thead>\n",
              " <tr style=\"text-align: left;\">\n",
              "      <th>Epoch</th>\n",
              "      <th>Training Loss</th>\n",
              "      <th>Validation Loss</th>\n",
              "      <th>Rmse</th>\n",
              "    </tr>\n",
              "  </thead>\n",
              "  <tbody>\n",
              "    <tr>\n",
              "      <td>1</td>\n",
              "      <td>0.745900</td>\n",
              "      <td>0.782984</td>\n",
              "      <td>0.753658</td>\n",
              "    </tr>\n",
              "    <tr>\n",
              "      <td>2</td>\n",
              "      <td>0.645900</td>\n",
              "      <td>0.634595</td>\n",
              "      <td>0.658027</td>\n",
              "    </tr>\n",
              "    <tr>\n",
              "      <td>3</td>\n",
              "      <td>0.526200</td>\n",
              "      <td>0.656488</td>\n",
              "      <td>0.658787</td>\n",
              "    </tr>\n",
              "    <tr>\n",
              "      <td>4</td>\n",
              "      <td>0.414400</td>\n",
              "      <td>0.693382</td>\n",
              "      <td>0.653835</td>\n",
              "    </tr>\n",
              "  </tbody>\n",
              "</table><p>"
            ]
          },
          "metadata": {}
        },
        {
          "output_type": "execute_result",
          "data": {
            "text/plain": [
              "TrainOutput(global_step=2000, training_loss=0.5831099319458007, metrics={'train_runtime': 3253.5331, 'train_samples_per_second': 9.834, 'train_steps_per_second': 0.615, 'total_flos': 8418576913625088.0, 'train_loss': 0.5831099319458007, 'epoch': 4.0})"
            ]
          },
          "metadata": {},
          "execution_count": 338
        }
      ],
      "source": [
        "# Launch the learning process: training\n",
        "trainer.train()"
      ]
    },
    {
      "cell_type": "code",
      "execution_count": null,
      "metadata": {
        "id": "-XnZGAuX-CoQ",
        "colab": {
          "base_uri": "https://localhost:8080/",
          "height": 388,
          "referenced_widgets": [
            "85dbbb9f5f3c4850a5f0dc69b947a84b",
            "1adf3daf9e264d3883591ad7dac0d4a4",
            "219b75738ddd4fbaa311aeae130e0a96",
            "495d0e04236642a8ab1201cf41daea1c",
            "9c3d5a6d2c9a4c4086ca0a2f28a1007d",
            "27260d45ffbb498597d0e36d5978174c",
            "394adb4c608e42e79bbc835ce812cc89",
            "be96ffa82a78483e86808f94ad863274",
            "1fa3e8730fe04897aad97e56629cfbaf",
            "53d28560d9844b508bcdb144180ff048",
            "d1b618d0e93c477bb17a1bafd0b2bb81"
          ]
        },
        "outputId": "afb00f80-7d8f-4d61-cf1a-52d1d530d23c"
      },
      "outputs": [
        {
          "output_type": "stream",
          "name": "stderr",
          "text": [
            "Several commits (2) will be pushed upstream.\n",
            "WARNING:huggingface_hub.repository:Several commits (2) will be pushed upstream.\n",
            "The progress bars may be unreliable.\n",
            "WARNING:huggingface_hub.repository:The progress bars may be unreliable.\n"
          ]
        },
        {
          "output_type": "display_data",
          "data": {
            "text/plain": [
              "Upload file runs/Jul13_04-02-07_60ba339b8491/events.out.tfevents.1689220934.60ba339b8491.3211.4:   0%|        …"
            ],
            "application/vnd.jupyter.widget-view+json": {
              "version_major": 2,
              "version_minor": 0,
              "model_id": "85dbbb9f5f3c4850a5f0dc69b947a84b"
            }
          },
          "metadata": {}
        },
        {
          "output_type": "stream",
          "name": "stderr",
          "text": [
            "To https://huggingface.co/DeeeTeeee01/mytest_trainer_roberta-base\n",
            "   6566dfb..bc07886  main -> main\n",
            "\n",
            "WARNING:huggingface_hub.repository:To https://huggingface.co/DeeeTeeee01/mytest_trainer_roberta-base\n",
            "   6566dfb..bc07886  main -> main\n",
            "\n",
            "To https://huggingface.co/DeeeTeeee01/mytest_trainer_roberta-base\n",
            "   bc07886..49273df  main -> main\n",
            "\n",
            "WARNING:huggingface_hub.repository:To https://huggingface.co/DeeeTeeee01/mytest_trainer_roberta-base\n",
            "   bc07886..49273df  main -> main\n",
            "\n"
          ]
        },
        {
          "output_type": "execute_result",
          "data": {
            "text/plain": [
              "'https://huggingface.co/DeeeTeeee01/mytest_trainer_roberta-base/commit/bc07886c580e95ffabde0ea3d822fa71a5852bb3'"
            ],
            "application/vnd.google.colaboratory.intrinsic+json": {
              "type": "string"
            }
          },
          "metadata": {},
          "execution_count": 339
        }
      ],
      "source": [
        "trainer.push_to_hub()"
      ]
    },
    {
      "cell_type": "code",
      "execution_count": null,
      "metadata": {
        "id": "sjWepVPNtxdY",
        "colab": {
          "base_uri": "https://localhost:8080/",
          "height": 147
        },
        "outputId": "18794414-e3ad-4da7-f40d-dd3f1dc36d24"
      },
      "outputs": [
        {
          "output_type": "display_data",
          "data": {
            "text/plain": [
              "<IPython.core.display.HTML object>"
            ],
            "text/html": [
              "\n",
              "    <div>\n",
              "      \n",
              "      <progress value='500' max='250' style='width:300px; height:20px; vertical-align: middle;'></progress>\n",
              "      [250/250 12:09]\n",
              "    </div>\n",
              "    "
            ]
          },
          "metadata": {}
        },
        {
          "output_type": "execute_result",
          "data": {
            "text/plain": [
              "{'eval_loss': 0.6345946192741394,\n",
              " 'eval_rmse': 0.6580273550544841,\n",
              " 'eval_runtime': 58.5712,\n",
              " 'eval_samples_per_second': 34.146,\n",
              " 'eval_steps_per_second': 4.268,\n",
              " 'epoch': 4.0}"
            ]
          },
          "metadata": {},
          "execution_count": 343
        }
      ],
      "source": [
        "# Launch the final evaluation\n",
        "trainer.evaluate()"
      ]
    },
    {
      "cell_type": "markdown",
      "metadata": {
        "id": "gnkyiuAltxdY"
      },
      "source": [
        "Some checkpoints of the model are automatically saved locally in `test_trainer/` during the training."
      ]
    },
    {
      "cell_type": "code",
      "execution_count": null,
      "metadata": {
        "id": "lBkPw99V9n-p"
      },
      "outputs": [],
      "source": [
        "#!pip show transformers\n",
        "#!pip install transformers==2.4.0"
      ]
    },
    {
      "cell_type": "code",
      "execution_count": null,
      "metadata": {
        "id": "K68_mmZ2I9qH",
        "colab": {
          "base_uri": "https://localhost:8080/"
        },
        "outputId": "270c89f0-5c66-4b58-d703-723d14a907b9"
      },
      "outputs": [
        {
          "metadata": {
            "tags": null
          },
          "name": "stderr",
          "output_type": "stream",
          "text": [
            "Some weights of the model checkpoint at mytest_trainer_roberta-base were not used when initializing RobertaModel: ['classifier.out_proj.bias', 'classifier.out_proj.weight', 'classifier.dense.weight', 'classifier.dense.bias']\n",
            "- This IS expected if you are initializing RobertaModel from the checkpoint of a model trained on another task or with another architecture (e.g. initializing a BertForSequenceClassification model from a BertForPreTraining model).\n",
            "- This IS NOT expected if you are initializing RobertaModel from the checkpoint of a model that you expect to be exactly identical (initializing a BertForSequenceClassification model from a BertForSequenceClassification model).\n",
            "Some weights of RobertaModel were not initialized from the model checkpoint at mytest_trainer_roberta-base and are newly initialized: ['roberta.pooler.dense.weight', 'roberta.pooler.dense.bias']\n",
            "You should probably TRAIN this model on a down-stream task to be able to use it for predictions and inference.\n"
          ]
        }
      ],
      "source": [
        "model = transformers.AutoModel.from_pretrained(\"mytest_trainer_base-cased\")"
      ]
    }
  ],
  "metadata": {
    "accelerator": "GPU",
    "colab": {
      "provenance": [],
      "include_colab_link": true
    },
    "kernelspec": {
      "display_name": "Python 3",
      "name": "python3"
    },
    "language_info": {
      "codemirror_mode": {
        "name": "ipython",
        "version": 3
      },
      "file_extension": ".py",
      "mimetype": "text/x-python",
      "name": "python",
      "nbconvert_exporter": "python",
      "pygments_lexer": "ipython3",
      "version": "3.9.6 (default, Aug  5 2022, 15:21:02) \n[Clang 14.0.0 (clang-1400.0.29.102)]"
    },
    "vscode": {
      "interpreter": {
        "hash": "1ab24538aa0da4b2d8c48eaca591ff7ffc54671225fb0511b432fd9e26a098ba"
      }
    },
    "widgets": {
      "application/vnd.jupyter.widget-state+json": {
        "85dbbb9f5f3c4850a5f0dc69b947a84b": {
          "model_module": "@jupyter-widgets/controls",
          "model_name": "HBoxModel",
          "model_module_version": "1.5.0",
          "state": {
            "_dom_classes": [],
            "_model_module": "@jupyter-widgets/controls",
            "_model_module_version": "1.5.0",
            "_model_name": "HBoxModel",
            "_view_count": null,
            "_view_module": "@jupyter-widgets/controls",
            "_view_module_version": "1.5.0",
            "_view_name": "HBoxView",
            "box_style": "",
            "children": [
              "IPY_MODEL_1adf3daf9e264d3883591ad7dac0d4a4",
              "IPY_MODEL_219b75738ddd4fbaa311aeae130e0a96",
              "IPY_MODEL_495d0e04236642a8ab1201cf41daea1c"
            ],
            "layout": "IPY_MODEL_9c3d5a6d2c9a4c4086ca0a2f28a1007d"
          }
        },
        "1adf3daf9e264d3883591ad7dac0d4a4": {
          "model_module": "@jupyter-widgets/controls",
          "model_name": "HTMLModel",
          "model_module_version": "1.5.0",
          "state": {
            "_dom_classes": [],
            "_model_module": "@jupyter-widgets/controls",
            "_model_module_version": "1.5.0",
            "_model_name": "HTMLModel",
            "_view_count": null,
            "_view_module": "@jupyter-widgets/controls",
            "_view_module_version": "1.5.0",
            "_view_name": "HTMLView",
            "description": "",
            "description_tooltip": null,
            "layout": "IPY_MODEL_27260d45ffbb498597d0e36d5978174c",
            "placeholder": "​",
            "style": "IPY_MODEL_394adb4c608e42e79bbc835ce812cc89",
            "value": "Upload file runs/Jul13_04-02-07_60ba339b8491/events.out.tfevents.1689220934.60ba339b8491.3211.4: 100%"
          }
        },
        "219b75738ddd4fbaa311aeae130e0a96": {
          "model_module": "@jupyter-widgets/controls",
          "model_name": "FloatProgressModel",
          "model_module_version": "1.5.0",
          "state": {
            "_dom_classes": [],
            "_model_module": "@jupyter-widgets/controls",
            "_model_module_version": "1.5.0",
            "_model_name": "FloatProgressModel",
            "_view_count": null,
            "_view_module": "@jupyter-widgets/controls",
            "_view_module_version": "1.5.0",
            "_view_name": "ProgressView",
            "bar_style": "success",
            "description": "",
            "description_tooltip": null,
            "layout": "IPY_MODEL_be96ffa82a78483e86808f94ad863274",
            "max": 6458,
            "min": 0,
            "orientation": "horizontal",
            "style": "IPY_MODEL_1fa3e8730fe04897aad97e56629cfbaf",
            "value": 6458
          }
        },
        "495d0e04236642a8ab1201cf41daea1c": {
          "model_module": "@jupyter-widgets/controls",
          "model_name": "HTMLModel",
          "model_module_version": "1.5.0",
          "state": {
            "_dom_classes": [],
            "_model_module": "@jupyter-widgets/controls",
            "_model_module_version": "1.5.0",
            "_model_name": "HTMLModel",
            "_view_count": null,
            "_view_module": "@jupyter-widgets/controls",
            "_view_module_version": "1.5.0",
            "_view_name": "HTMLView",
            "description": "",
            "description_tooltip": null,
            "layout": "IPY_MODEL_53d28560d9844b508bcdb144180ff048",
            "placeholder": "​",
            "style": "IPY_MODEL_d1b618d0e93c477bb17a1bafd0b2bb81",
            "value": " 6.31k/6.31k [00:08&lt;00:00, 1.99MB/s]"
          }
        },
        "9c3d5a6d2c9a4c4086ca0a2f28a1007d": {
          "model_module": "@jupyter-widgets/base",
          "model_name": "LayoutModel",
          "model_module_version": "1.2.0",
          "state": {
            "_model_module": "@jupyter-widgets/base",
            "_model_module_version": "1.2.0",
            "_model_name": "LayoutModel",
            "_view_count": null,
            "_view_module": "@jupyter-widgets/base",
            "_view_module_version": "1.2.0",
            "_view_name": "LayoutView",
            "align_content": null,
            "align_items": null,
            "align_self": null,
            "border": null,
            "bottom": null,
            "display": null,
            "flex": null,
            "flex_flow": null,
            "grid_area": null,
            "grid_auto_columns": null,
            "grid_auto_flow": null,
            "grid_auto_rows": null,
            "grid_column": null,
            "grid_gap": null,
            "grid_row": null,
            "grid_template_areas": null,
            "grid_template_columns": null,
            "grid_template_rows": null,
            "height": null,
            "justify_content": null,
            "justify_items": null,
            "left": null,
            "margin": null,
            "max_height": null,
            "max_width": null,
            "min_height": null,
            "min_width": null,
            "object_fit": null,
            "object_position": null,
            "order": null,
            "overflow": null,
            "overflow_x": null,
            "overflow_y": null,
            "padding": null,
            "right": null,
            "top": null,
            "visibility": null,
            "width": null
          }
        },
        "27260d45ffbb498597d0e36d5978174c": {
          "model_module": "@jupyter-widgets/base",
          "model_name": "LayoutModel",
          "model_module_version": "1.2.0",
          "state": {
            "_model_module": "@jupyter-widgets/base",
            "_model_module_version": "1.2.0",
            "_model_name": "LayoutModel",
            "_view_count": null,
            "_view_module": "@jupyter-widgets/base",
            "_view_module_version": "1.2.0",
            "_view_name": "LayoutView",
            "align_content": null,
            "align_items": null,
            "align_self": null,
            "border": null,
            "bottom": null,
            "display": null,
            "flex": null,
            "flex_flow": null,
            "grid_area": null,
            "grid_auto_columns": null,
            "grid_auto_flow": null,
            "grid_auto_rows": null,
            "grid_column": null,
            "grid_gap": null,
            "grid_row": null,
            "grid_template_areas": null,
            "grid_template_columns": null,
            "grid_template_rows": null,
            "height": null,
            "justify_content": null,
            "justify_items": null,
            "left": null,
            "margin": null,
            "max_height": null,
            "max_width": null,
            "min_height": null,
            "min_width": null,
            "object_fit": null,
            "object_position": null,
            "order": null,
            "overflow": null,
            "overflow_x": null,
            "overflow_y": null,
            "padding": null,
            "right": null,
            "top": null,
            "visibility": null,
            "width": null
          }
        },
        "394adb4c608e42e79bbc835ce812cc89": {
          "model_module": "@jupyter-widgets/controls",
          "model_name": "DescriptionStyleModel",
          "model_module_version": "1.5.0",
          "state": {
            "_model_module": "@jupyter-widgets/controls",
            "_model_module_version": "1.5.0",
            "_model_name": "DescriptionStyleModel",
            "_view_count": null,
            "_view_module": "@jupyter-widgets/base",
            "_view_module_version": "1.2.0",
            "_view_name": "StyleView",
            "description_width": ""
          }
        },
        "be96ffa82a78483e86808f94ad863274": {
          "model_module": "@jupyter-widgets/base",
          "model_name": "LayoutModel",
          "model_module_version": "1.2.0",
          "state": {
            "_model_module": "@jupyter-widgets/base",
            "_model_module_version": "1.2.0",
            "_model_name": "LayoutModel",
            "_view_count": null,
            "_view_module": "@jupyter-widgets/base",
            "_view_module_version": "1.2.0",
            "_view_name": "LayoutView",
            "align_content": null,
            "align_items": null,
            "align_self": null,
            "border": null,
            "bottom": null,
            "display": null,
            "flex": null,
            "flex_flow": null,
            "grid_area": null,
            "grid_auto_columns": null,
            "grid_auto_flow": null,
            "grid_auto_rows": null,
            "grid_column": null,
            "grid_gap": null,
            "grid_row": null,
            "grid_template_areas": null,
            "grid_template_columns": null,
            "grid_template_rows": null,
            "height": null,
            "justify_content": null,
            "justify_items": null,
            "left": null,
            "margin": null,
            "max_height": null,
            "max_width": null,
            "min_height": null,
            "min_width": null,
            "object_fit": null,
            "object_position": null,
            "order": null,
            "overflow": null,
            "overflow_x": null,
            "overflow_y": null,
            "padding": null,
            "right": null,
            "top": null,
            "visibility": null,
            "width": null
          }
        },
        "1fa3e8730fe04897aad97e56629cfbaf": {
          "model_module": "@jupyter-widgets/controls",
          "model_name": "ProgressStyleModel",
          "model_module_version": "1.5.0",
          "state": {
            "_model_module": "@jupyter-widgets/controls",
            "_model_module_version": "1.5.0",
            "_model_name": "ProgressStyleModel",
            "_view_count": null,
            "_view_module": "@jupyter-widgets/base",
            "_view_module_version": "1.2.0",
            "_view_name": "StyleView",
            "bar_color": null,
            "description_width": ""
          }
        },
        "53d28560d9844b508bcdb144180ff048": {
          "model_module": "@jupyter-widgets/base",
          "model_name": "LayoutModel",
          "model_module_version": "1.2.0",
          "state": {
            "_model_module": "@jupyter-widgets/base",
            "_model_module_version": "1.2.0",
            "_model_name": "LayoutModel",
            "_view_count": null,
            "_view_module": "@jupyter-widgets/base",
            "_view_module_version": "1.2.0",
            "_view_name": "LayoutView",
            "align_content": null,
            "align_items": null,
            "align_self": null,
            "border": null,
            "bottom": null,
            "display": null,
            "flex": null,
            "flex_flow": null,
            "grid_area": null,
            "grid_auto_columns": null,
            "grid_auto_flow": null,
            "grid_auto_rows": null,
            "grid_column": null,
            "grid_gap": null,
            "grid_row": null,
            "grid_template_areas": null,
            "grid_template_columns": null,
            "grid_template_rows": null,
            "height": null,
            "justify_content": null,
            "justify_items": null,
            "left": null,
            "margin": null,
            "max_height": null,
            "max_width": null,
            "min_height": null,
            "min_width": null,
            "object_fit": null,
            "object_position": null,
            "order": null,
            "overflow": null,
            "overflow_x": null,
            "overflow_y": null,
            "padding": null,
            "right": null,
            "top": null,
            "visibility": null,
            "width": null
          }
        },
        "d1b618d0e93c477bb17a1bafd0b2bb81": {
          "model_module": "@jupyter-widgets/controls",
          "model_name": "DescriptionStyleModel",
          "model_module_version": "1.5.0",
          "state": {
            "_model_module": "@jupyter-widgets/controls",
            "_model_module_version": "1.5.0",
            "_model_name": "DescriptionStyleModel",
            "_view_count": null,
            "_view_module": "@jupyter-widgets/base",
            "_view_module_version": "1.2.0",
            "_view_name": "StyleView",
            "description_width": ""
          }
        }
      }
    }
  },
  "nbformat": 4,
  "nbformat_minor": 0
}